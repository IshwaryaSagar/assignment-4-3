{
 "cells": [
  {
   "cell_type": "code",
   "execution_count": 1,
   "id": "5b504bbb",
   "metadata": {},
   "outputs": [],
   "source": [
    "## python program to square the elements of list using map()"
   ]
  },
  {
   "cell_type": "code",
   "execution_count": 2,
   "id": "90ea4765",
   "metadata": {},
   "outputs": [],
   "source": [
    "l=[4,5,2,9]"
   ]
  },
  {
   "cell_type": "code",
   "execution_count": 3,
   "id": "4e701fe7",
   "metadata": {},
   "outputs": [],
   "source": [
    "output=list(map(lambda x:x**2,l))"
   ]
  },
  {
   "cell_type": "code",
   "execution_count": 5,
   "id": "fe180150",
   "metadata": {},
   "outputs": [
    {
     "name": "stdout",
     "output_type": "stream",
     "text": [
      "[16, 25, 4, 81]\n"
     ]
    }
   ],
   "source": [
    "print(output)"
   ]
  },
  {
   "cell_type": "code",
   "execution_count": null,
   "id": "7a3b3c6d",
   "metadata": {},
   "outputs": [],
   "source": []
  },
  {
   "cell_type": "code",
   "execution_count": null,
   "id": "1a98837f",
   "metadata": {},
   "outputs": [],
   "source": []
  }
 ],
 "metadata": {
  "kernelspec": {
   "display_name": "Python 3 (ipykernel)",
   "language": "python",
   "name": "python3"
  },
  "language_info": {
   "codemirror_mode": {
    "name": "ipython",
    "version": 3
   },
   "file_extension": ".py",
   "mimetype": "text/x-python",
   "name": "python",
   "nbconvert_exporter": "python",
   "pygments_lexer": "ipython3",
   "version": "3.9.7"
  }
 },
 "nbformat": 4,
 "nbformat_minor": 5
}
